{
  "nbformat": 4,
  "nbformat_minor": 0,
  "metadata": {
    "colab": {
      "provenance": []
    },
    "kernelspec": {
      "name": "python3",
      "display_name": "Python 3"
    },
    "language_info": {
      "name": "python"
    }
  },
  "cells": [
    {
      "cell_type": "markdown",
      "source": [
        "# CS235F25 HW 2\n",
        "\n",
        "**Dataset:** Airbnb"
      ],
      "metadata": {
        "id": "xuKBa5I7_2A8"
      }
    },
    {
      "cell_type": "markdown",
      "source": [
        "# Imports"
      ],
      "metadata": {
        "id": "SzIsuW5kBqNg"
      }
    },
    {
      "cell_type": "code",
      "source": [
        "# [INSERT CODE TO IMPORT NECESSARY PYTHON PACKAGES HERE]\n",
        "\n",
        "import pandas as pd\n",
        "import matplotlib.pyplot as plt"
      ],
      "metadata": {
        "id": "7Nzdd_4ZBsnK"
      },
      "execution_count": null,
      "outputs": []
    },
    {
      "cell_type": "markdown",
      "source": [
        "# 0. Load Data / Data Exploration"
      ],
      "metadata": {
        "id": "3OcSyMALAZi6"
      }
    },
    {
      "cell_type": "code",
      "source": [
        "trainDF = pd.read_csv('train.csv')\n",
        "testDF = pd.read_csv('test.csv')"
      ],
      "metadata": {
        "id": "y936MsvaAbgI"
      },
      "execution_count": null,
      "outputs": []
    },
    {
      "cell_type": "markdown",
      "source": [
        "[INSERT WRITE-UP HERE. Explain any data quality issues that you observe and if you preformed any pre-processing]"
      ],
      "metadata": {
        "id": "m8TVDdmfoHpj"
      }
    },
    {
      "cell_type": "markdown",
      "source": [
        "# 1. Model Training (60 points)\n",
        "\n",
        "Train at least 3 models. You can evaluate more than 3 models and apply your own cross-validation approach to choose the top three models to submit to Kaggle. For each model, include a short write up on each model (desc of selected model, evaluation approach applied, how did you select hyperparameters).  "
      ],
      "metadata": {
        "id": "sPWVetZznZuJ"
      }
    },
    {
      "cell_type": "code",
      "source": [
        "# Model 1"
      ],
      "metadata": {
        "id": "X3FMGyGfohUF"
      },
      "execution_count": null,
      "outputs": []
    },
    {
      "cell_type": "markdown",
      "source": [
        "[INSERT WRITE-UP HERE]"
      ],
      "metadata": {
        "id": "M3PYCcPaBZ3W"
      }
    },
    {
      "cell_type": "code",
      "source": [
        "# Model 2"
      ],
      "metadata": {
        "id": "2deDycjhnX8N"
      },
      "execution_count": null,
      "outputs": []
    },
    {
      "cell_type": "markdown",
      "source": [
        "[INSERT WRITE-UP HERE]"
      ],
      "metadata": {
        "id": "W7EN7FlunYTG"
      }
    },
    {
      "cell_type": "code",
      "source": [
        "# Model 3"
      ],
      "metadata": {
        "id": "RMPvAxfDol1r"
      },
      "execution_count": null,
      "outputs": []
    },
    {
      "cell_type": "markdown",
      "source": [
        "[INSERT WRITE-UP HERE]"
      ],
      "metadata": {
        "id": "WaeuuojmomJZ"
      }
    },
    {
      "cell_type": "markdown",
      "source": [
        "# 2. Plotting (10 points)"
      ],
      "metadata": {
        "id": "tuPs_ADkA4XQ"
      }
    },
    {
      "cell_type": "code",
      "source": [
        "# Plot results here\n",
        "# [INSERT CODE HERE]"
      ],
      "metadata": {
        "id": "5AUlrbJNA9Cr"
      },
      "execution_count": null,
      "outputs": []
    },
    {
      "cell_type": "markdown",
      "source": [
        "[INSERT WRITE-UP HERE]"
      ],
      "metadata": {
        "id": "aN9C5Ki-BsvA"
      }
    },
    {
      "cell_type": "markdown",
      "source": [
        "# 3. Discussion (10 points)"
      ],
      "metadata": {
        "id": "E7DZrAd4pDrw"
      }
    },
    {
      "cell_type": "markdown",
      "source": [
        "# include a short discussion about results and approach."
      ],
      "metadata": {
        "id": "E3XqUsp0pB6-"
      }
    },
    {
      "cell_type": "markdown",
      "source": [
        "Note, the rest of the points are based on Kaggle submission and ranking."
      ],
      "metadata": {
        "id": "ofZARX6Qxr8U"
      }
    },
    {
      "cell_type": "markdown",
      "source": [
        "# References / Disclosure\n",
        "\n",
        "[List the sources you used to complete this assignment here]"
      ],
      "metadata": {
        "id": "NEGv5aWoneGk"
      }
    }
  ]
}