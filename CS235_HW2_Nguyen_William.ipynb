{
  "cells": [
    {
      "cell_type": "markdown",
      "metadata": {
        "id": "xuKBa5I7_2A8"
      },
      "source": [
        "# CS235F25 HW 2\n",
        "\n",
        "**Dataset:** Airbnb"
      ]
    },
    {
      "cell_type": "markdown",
      "metadata": {
        "id": "SzIsuW5kBqNg"
      },
      "source": [
        "# Imports"
      ]
    },
    {
      "cell_type": "code",
      "execution_count": 2,
      "metadata": {
        "id": "7Nzdd_4ZBsnK"
      },
      "outputs": [],
      "source": [
        "# [INSERT CODE TO IMPORT NECESSARY PYTHON PACKAGES HERE]\n",
        "\n",
        "import pandas as pd\n",
        "import matplotlib.pyplot as plt"
      ]
    },
    {
      "cell_type": "markdown",
      "metadata": {
        "id": "3OcSyMALAZi6"
      },
      "source": [
        "# 0. Load Data / Data Exploration"
      ]
    },
    {
      "cell_type": "code",
      "execution_count": 3,
      "metadata": {
        "id": "y936MsvaAbgI"
      },
      "outputs": [
        {
          "name": "stderr",
          "output_type": "stream",
          "text": [
            "C:\\Users\\reala\\AppData\\Local\\Temp\\ipykernel_32764\\1745673260.py:1: DtypeWarning: Columns (30) have mixed types. Specify dtype option on import or set low_memory=False.\n",
            "  trainDF = pd.read_csv('train.csv')\n"
          ]
        }
      ],
      "source": [
        "trainDF = pd.read_csv('train.csv')\n",
        "testDF = pd.read_csv('test.csv')"
      ]
    },
    {
      "cell_type": "code",
      "execution_count": 5,
      "metadata": {},
      "outputs": [
        {
          "data": {
            "text/plain": [
              "(26830, 65)"
            ]
          },
          "execution_count": 5,
          "metadata": {},
          "output_type": "execute_result"
        }
      ],
      "source": [
        "trainDF.shape"
      ]
    },
    {
      "cell_type": "markdown",
      "metadata": {
        "id": "m8TVDdmfoHpj"
      },
      "source": [
        "[INSERT WRITE-UP HERE. Explain any data quality issues that you observe and if you preformed any pre-processing]"
      ]
    },
    {
      "cell_type": "markdown",
      "metadata": {
        "id": "sPWVetZznZuJ"
      },
      "source": [
        "# 1. Model Training (60 points)\n",
        "\n",
        "Train at least 3 models. You can evaluate more than 3 models and apply your own cross-validation approach to choose the top three models to submit to Kaggle. For each model, include a short write up on each model (desc of selected model, evaluation approach applied, how did you select hyperparameters).  "
      ]
    },
    {
      "cell_type": "code",
      "execution_count": null,
      "metadata": {
        "id": "X3FMGyGfohUF"
      },
      "outputs": [],
      "source": [
        "# Model 1"
      ]
    },
    {
      "cell_type": "markdown",
      "metadata": {
        "id": "M3PYCcPaBZ3W"
      },
      "source": [
        "[INSERT WRITE-UP HERE]"
      ]
    },
    {
      "cell_type": "code",
      "execution_count": null,
      "metadata": {
        "id": "2deDycjhnX8N"
      },
      "outputs": [],
      "source": [
        "# Model 2"
      ]
    },
    {
      "cell_type": "markdown",
      "metadata": {
        "id": "W7EN7FlunYTG"
      },
      "source": [
        "[INSERT WRITE-UP HERE]"
      ]
    },
    {
      "cell_type": "code",
      "execution_count": null,
      "metadata": {
        "id": "RMPvAxfDol1r"
      },
      "outputs": [],
      "source": [
        "# Model 3"
      ]
    },
    {
      "cell_type": "markdown",
      "metadata": {
        "id": "WaeuuojmomJZ"
      },
      "source": [
        "[INSERT WRITE-UP HERE]"
      ]
    },
    {
      "cell_type": "markdown",
      "metadata": {
        "id": "tuPs_ADkA4XQ"
      },
      "source": [
        "# 2. Plotting (10 points)"
      ]
    },
    {
      "cell_type": "code",
      "execution_count": null,
      "metadata": {
        "id": "5AUlrbJNA9Cr"
      },
      "outputs": [],
      "source": [
        "# Plot results here\n",
        "# [INSERT CODE HERE]"
      ]
    },
    {
      "cell_type": "markdown",
      "metadata": {
        "id": "aN9C5Ki-BsvA"
      },
      "source": [
        "[INSERT WRITE-UP HERE]"
      ]
    },
    {
      "cell_type": "markdown",
      "metadata": {
        "id": "E7DZrAd4pDrw"
      },
      "source": [
        "# 3. Discussion (10 points)"
      ]
    },
    {
      "cell_type": "markdown",
      "metadata": {
        "id": "E3XqUsp0pB6-"
      },
      "source": [
        "# include a short discussion about results and approach."
      ]
    },
    {
      "cell_type": "markdown",
      "metadata": {
        "id": "ofZARX6Qxr8U"
      },
      "source": [
        "Note, the rest of the points are based on Kaggle submission and ranking."
      ]
    },
    {
      "cell_type": "markdown",
      "metadata": {
        "id": "NEGv5aWoneGk"
      },
      "source": [
        "# References / Disclosure\n",
        "\n",
        "[List the sources you used to complete this assignment here]"
      ]
    }
  ],
  "metadata": {
    "colab": {
      "provenance": []
    },
    "kernelspec": {
      "display_name": "base",
      "language": "python",
      "name": "python3"
    },
    "language_info": {
      "codemirror_mode": {
        "name": "ipython",
        "version": 3
      },
      "file_extension": ".py",
      "mimetype": "text/x-python",
      "name": "python",
      "nbconvert_exporter": "python",
      "pygments_lexer": "ipython3",
      "version": "3.12.4"
    }
  },
  "nbformat": 4,
  "nbformat_minor": 0
}
